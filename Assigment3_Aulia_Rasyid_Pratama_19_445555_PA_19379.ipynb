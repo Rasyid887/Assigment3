{
  "nbformat": 4,
  "nbformat_minor": 0,
  "metadata": {
    "colab": {
      "provenance": [],
      "collapsed_sections": []
    },
    "kernelspec": {
      "name": "python3",
      "display_name": "Python 3"
    },
    "language_info": {
      "name": "python"
    }
  },
  "cells": [
    {
      "cell_type": "code",
      "execution_count": null,
      "metadata": {
        "id": "QKaoNRmJgJqw"
      },
      "outputs": [],
      "source": [
        "!pip install -U control   #Instal library control"
      ]
    },
    {
      "cell_type": "code",
      "source": [
        "import numpy as np    #Import library-library yang diperlukan (numpy, control, dan matplotlib)\n",
        "import control as co\n",
        "import matplotlib.pyplot as plt"
      ],
      "metadata": {
        "id": "aU6CZZXEgPOW"
      },
      "execution_count": null,
      "outputs": []
    },
    {
      "cell_type": "code",
      "source": [
        "def generateRouth(den):   #Membuat fungsi generateRouth dengan parapemer den. Fungsi ini berfungsi untuk membuat tabel routh\n",
        "  r = [[],[]]   #Membuat variabel r sebagai array untuk tabel routh\n",
        "  for i in range(len(den)):   #Mengisi array r dengan nilai dari den sesuai ketentuan tabel routh\n",
        "    r[i%2].append(den[i])\n",
        "\n",
        "  i = 0   #Mengembalikan nilai i menjadi 0\n",
        "  while True:   #Pengulangan ini berfungsi mengisi nilai b1, b2, c1, dst\n",
        "    if len(r[i])>len(r[i+1]) and r[i][len(r[i])-1]!=0:    #Mengecek apakah kolom paling kanan pada tabel routh terisi dan tidak 0\n",
        "      r[i+1].append(0)    #Menambah nilai 0 pada baris selanjutnya kolom terakhir pada tabel routh\n",
        "    if r[i][len(r[i])-1] == 0:    #Mengecek apakah kolom paling kanan pada tabel routh bernilai 0\n",
        "      r[i].pop()    #Menghapus nilai 0 pada kolom paling kanan\n",
        "    if len(r[i]) > 1:   #Mengecek apakah panjang baris > 1\n",
        "      r.append([])    #Menambah baris\n",
        "    if r[i+1][0] == 0:    #Mengecek apakah kolom paling kiri kecuali baris 1 ada yang bernilai 0 atau tidak\n",
        "      den = [a+b for a, b in zip(den+[0], [0]+den)]   #Antisipasi jika ada kolom paling kiri yang bernilai 0\n",
        "      return generateRouth(den)\n",
        "    \n",
        "    for j in range(len(r[i])-1):    #Mengisi nilai dari b1, b2, c1, dst\n",
        "      r[i+2].append((r[i+1][0]*r[i][j+1] - r[i][0]*r[i+1][j+1])/r[i+1][0])\n",
        "    \n",
        "    if len(r[i]) == 1:    #Mengecek apakah panjang baris = 0\n",
        "      break   #keluar dari pengulangan\n",
        "    \n",
        "    i += 1    #i = i+1\n",
        "  return r    #Mengembalikan nilai r"
      ],
      "metadata": {
        "id": "6qRSxFUv5AL2"
      },
      "execution_count": null,
      "outputs": []
    },
    {
      "cell_type": "code",
      "source": [
        "def cekKestabilan(den):   #Membuat fungsi cekKestabilan dengan parameter den. Fungsi ini berfungsi untuk mengetahui sistem stabil atau tidak stabil\n",
        "  if den[len(den)-2] == 0 and den[len(den)-1] == 0:   #Mengecek sistem stabil atau tidak berdasarkan beberapa kutub pada asalnya\n",
        "    print(\"SISTEM TIDAK STABIL !\")    #Menampilkan ke layar \"SISTEM TIDAK STABIL\"\n",
        "    return False\n",
        "  \n",
        "  flag = 0    #Inisialisasi variabel flag = 0\n",
        "  row = generateRouth(den)    #Memanggil fungsi generateRouth\n",
        "  print(\"Tabel routh\\n\")    #Menampilkan ke layar \"Tabel routh\"\n",
        "  for i in range (len(row)):    #Menampilkan ke layar tabel routh\n",
        "    print(row[i])\n",
        "  print(\" \")\n",
        " \n",
        "  for i in range(len(row)):   #Mengecek apakah ada nilai dikolom paling kiri yang bernilai negatif\n",
        "    if row[i][0] < 0:\n",
        "      flag = 1\n",
        "  \n",
        "  if flag == 0:   #Jika kolom paling kiri semua bernilai positif maka sistem stabil, jika ada yang negatif maka sistem tidak stabil\n",
        "    print(\"\\nSISTEM STABIL !\")    #Menampilkan ke layar \"SISTEM STABIL !\"\n",
        "    return True\n",
        "  else :\n",
        "    print(\"\\nSISTEM TIDAK STABIL !\")    ##Menampilkan ke layar \"SISTEM TIDAK STABIL !\"\n",
        "    return False"
      ],
      "metadata": {
        "id": "zOOvje6m_Q6Q"
      },
      "execution_count": null,
      "outputs": []
    },
    {
      "cell_type": "code",
      "source": [
        "print(\"Silahkan masukan nilai K!\")    #Menampilkan ke layar \"Silahkan masukan nilai K\"\n",
        "k = int(input())    #Menerima input dari user\n",
        "print(\" \")    #Membuat baris kosong\n",
        "num = [k]   #Inisialisasi variabel num\n",
        "den = [1,3,3,2,k]   #Inisialisasi variabel den\n",
        "print(\"Tranfer Function\")   #Menampilkan ke layar \"Tranfer Function\"\n",
        "print(co.tf(num,den))   #Menampilkan ke layar bentuk tranfer fungsi\n",
        "print(\" \")    #Membuat baris kosong\n",
        "print(\"Bentuk polinomial\")    #Menampilkan ke layar \"Bentuk polinomial\"\n",
        "print(\" \")    #Membuat baris kosong\n",
        "print(\" \")    #Membuat baris kosong\n",
        "print(np.poly1d(den, variable = 's'))   #Menampilkan ke layar bentuk polinomial\n",
        "print(\" \\n\")    #Membuat baris kosong\n",
        "\n",
        "result = cekKestabilan(den)   #Memanggil fungsi cekKestabilan"
      ],
      "metadata": {
        "colab": {
          "base_uri": "https://localhost:8080/"
        },
        "id": "xXTBKEPE_TZH",
        "outputId": "94e9426a-f94a-46d1-9672-5d57b088359b"
      },
      "execution_count": null,
      "outputs": [
        {
          "output_type": "stream",
          "name": "stdout",
          "text": [
            "Silahkan masukan nilai K!\n",
            "3\n",
            " \n",
            "Tranfer Function\n",
            "\n",
            "              3\n",
            "-----------------------------\n",
            "s^4 + 3 s^3 + 3 s^2 + 2 s + 3\n",
            "\n",
            " \n",
            "Bentuk polinomial\n",
            " \n",
            " \n",
            "   4     3     2\n",
            "1 s + 3 s + 3 s + 2 s + 3\n",
            " \n",
            "\n",
            "Tabel routh\n",
            "\n",
            "[1, 3, 3]\n",
            "[3, 2]\n",
            "[2.3333333333333335, 3.0]\n",
            "[-1.857142857142857]\n",
            "[3.0]\n",
            " \n",
            "\n",
            "SISTEM TIDAK STABIL !\n"
          ]
        }
      ]
    }
  ]
}